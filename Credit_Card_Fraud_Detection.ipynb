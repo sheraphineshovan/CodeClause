{
  "cells": [
    {
      "cell_type": "markdown",
      "metadata": {
        "id": "view-in-github",
        "colab_type": "text"
      },
      "source": [
        "<a href=\"https://colab.research.google.com/github/sheraphineshovan/CodeClause/blob/main/Credit_Card_Fraud_Detection.ipynb\" target=\"_parent\"><img src=\"https://colab.research.google.com/assets/colab-badge.svg\" alt=\"Open In Colab\"/></a>"
      ]
    },
    {
      "cell_type": "markdown",
      "metadata": {
        "id": "nxHL8U4t1Mzy"
      },
      "source": [
        "\n",
        "\n",
        "\n",
        "---\n",
        "\n",
        "\n",
        "#           **<center>CREDIT CARD FRAUD DETECTION<center>**\n",
        "\n",
        "---\n",
        "\n",
        "\n",
        "\n"
      ]
    },
    {
      "cell_type": "markdown",
      "source": [
        "**About Dataset**\n",
        "\n",
        "- The Credit Card Fraud Detection dataset is a collection of credit card transactions tagged as fraudulent or legitimate. It encompasses credit card transactions and their associated features, providing valuable insights into detecting fraudulent activities. The dataset serves as the foundation for developing a sophisticated credit card fraud detection model.\n",
        "\n",
        "**Objective**\n",
        "\n",
        "- The objective of this project is to construct an advanced credit card fraud detection system that can effectively identify fraudulent transactions from legitimate ones. Leveraging cutting-edge machine learning techniques and algorithms, the aim is to create a robust model that enhances financial security by minimizing unauthorized transactions and protecting users from potential fraud.\n",
        "\n",
        "**Approach**\n",
        "\n",
        "1. Load the Data and The Libraries\n",
        "2. Analyzing the Data\n",
        "  - Check for null Values\n",
        "  - Check for imbalance\n",
        "  - Check for duplicated values\n",
        "  - Check for skewness\n",
        "2. Data Preparation and Data Transformation\n",
        "3. Data Visualization\n",
        "5. Models\n",
        "    - Logistic Regression\n",
        "    - Random Forest\n",
        "    - Gradient Boostong\n",
        "\n"
      ],
      "metadata": {
        "id": "OpyYVCNlptx4"
      }
    },
    {
      "cell_type": "markdown",
      "metadata": {
        "id": "rwnoHlNV28f5"
      },
      "source": [
        "### Load the Data and The Libraries"
      ]
    },
    {
      "cell_type": "code",
      "execution_count": null,
      "metadata": {
        "id": "EoJYV79O1KWM"
      },
      "outputs": [],
      "source": [
        "import pandas as pd\n",
        "import numpy as np\n",
        "import matplotlib.pyplot as plt\n",
        "import seaborn as sns\n",
        "from imblearn.combine import SMOTETomek\n",
        "from sklearn.model_selection import train_test_split\n",
        "from sklearn.tree import DecisionTreeClassifier\n",
        "from sklearn.linear_model import LogisticRegression\n",
        "from sklearn.metrics import accuracy_score,confusion_matrix,classification_report\n",
        "from scipy.stats import chi2_contingency\n",
        "from sklearn.ensemble import RandomForestClassifier,GradientBoostingClassifier,AdaBoostClassifier\n",
        "from sklearn.neighbors import KNeighborsClassifier\n",
        "import warnings\n",
        "warnings.filterwarnings('ignore')\n",
        "pd.set_option('display.max_columns', None)\n",
        "pd.set_option('display.max_rows', None)"
      ]
    },
    {
      "cell_type": "code",
      "execution_count": null,
      "metadata": {
        "id": "gRpIgfA-3DJZ"
      },
      "outputs": [],
      "source": [
        "data = pd.read_csv('/content/creditcard.csv')"
      ]
    },
    {
      "cell_type": "markdown",
      "metadata": {
        "id": "Ju5IEOmU9qyu"
      },
      "source": [
        "# Analyzing the Data"
      ]
    },
    {
      "cell_type": "code",
      "execution_count": null,
      "metadata": {
        "id": "o02DfnEI3R7H",
        "colab": {
          "base_uri": "https://localhost:8080/",
          "height": 226
        },
        "outputId": "a0af41d0-9478-47d1-d45d-3b0add01e988"
      },
      "outputs": [
        {
          "output_type": "execute_result",
          "data": {
            "text/plain": [
              "   Time        V1        V2        V3        V4        V5        V6        V7  \\\n",
              "0   0.0 -1.359807 -0.072781  2.536347  1.378155 -0.338321  0.462388  0.239599   \n",
              "1   0.0  1.191857  0.266151  0.166480  0.448154  0.060018 -0.082361 -0.078803   \n",
              "2   1.0 -1.358354 -1.340163  1.773209  0.379780 -0.503198  1.800499  0.791461   \n",
              "3   1.0 -0.966272 -0.185226  1.792993 -0.863291 -0.010309  1.247203  0.237609   \n",
              "4   2.0 -1.158233  0.877737  1.548718  0.403034 -0.407193  0.095921  0.592941   \n",
              "\n",
              "         V8        V9       V10       V11       V12       V13       V14  \\\n",
              "0  0.098698  0.363787  0.090794 -0.551600 -0.617801 -0.991390 -0.311169   \n",
              "1  0.085102 -0.255425 -0.166974  1.612727  1.065235  0.489095 -0.143772   \n",
              "2  0.247676 -1.514654  0.207643  0.624501  0.066084  0.717293 -0.165946   \n",
              "3  0.377436 -1.387024 -0.054952 -0.226487  0.178228  0.507757 -0.287924   \n",
              "4 -0.270533  0.817739  0.753074 -0.822843  0.538196  1.345852 -1.119670   \n",
              "\n",
              "        V15       V16       V17       V18       V19       V20       V21  \\\n",
              "0  1.468177 -0.470401  0.207971  0.025791  0.403993  0.251412 -0.018307   \n",
              "1  0.635558  0.463917 -0.114805 -0.183361 -0.145783 -0.069083 -0.225775   \n",
              "2  2.345865 -2.890083  1.109969 -0.121359 -2.261857  0.524980  0.247998   \n",
              "3 -0.631418 -1.059647 -0.684093  1.965775 -1.232622 -0.208038 -0.108300   \n",
              "4  0.175121 -0.451449 -0.237033 -0.038195  0.803487  0.408542 -0.009431   \n",
              "\n",
              "        V22       V23       V24       V25       V26       V27       V28  \\\n",
              "0  0.277838 -0.110474  0.066928  0.128539 -0.189115  0.133558 -0.021053   \n",
              "1 -0.638672  0.101288 -0.339846  0.167170  0.125895 -0.008983  0.014724   \n",
              "2  0.771679  0.909412 -0.689281 -0.327642 -0.139097 -0.055353 -0.059752   \n",
              "3  0.005274 -0.190321 -1.175575  0.647376 -0.221929  0.062723  0.061458   \n",
              "4  0.798278 -0.137458  0.141267 -0.206010  0.502292  0.219422  0.215153   \n",
              "\n",
              "   Amount  Class  \n",
              "0  149.62      0  \n",
              "1    2.69      0  \n",
              "2  378.66      0  \n",
              "3  123.50      0  \n",
              "4   69.99      0  "
            ],
            "text/html": [
              "\n",
              "  <div id=\"df-2b13dfb6-d157-4dab-8606-21ca56e7ab98\" class=\"colab-df-container\">\n",
              "    <div>\n",
              "<style scoped>\n",
              "    .dataframe tbody tr th:only-of-type {\n",
              "        vertical-align: middle;\n",
              "    }\n",
              "\n",
              "    .dataframe tbody tr th {\n",
              "        vertical-align: top;\n",
              "    }\n",
              "\n",
              "    .dataframe thead th {\n",
              "        text-align: right;\n",
              "    }\n",
              "</style>\n",
              "<table border=\"1\" class=\"dataframe\">\n",
              "  <thead>\n",
              "    <tr style=\"text-align: right;\">\n",
              "      <th></th>\n",
              "      <th>Time</th>\n",
              "      <th>V1</th>\n",
              "      <th>V2</th>\n",
              "      <th>V3</th>\n",
              "      <th>V4</th>\n",
              "      <th>V5</th>\n",
              "      <th>V6</th>\n",
              "      <th>V7</th>\n",
              "      <th>V8</th>\n",
              "      <th>V9</th>\n",
              "      <th>V10</th>\n",
              "      <th>V11</th>\n",
              "      <th>V12</th>\n",
              "      <th>V13</th>\n",
              "      <th>V14</th>\n",
              "      <th>V15</th>\n",
              "      <th>V16</th>\n",
              "      <th>V17</th>\n",
              "      <th>V18</th>\n",
              "      <th>V19</th>\n",
              "      <th>V20</th>\n",
              "      <th>V21</th>\n",
              "      <th>V22</th>\n",
              "      <th>V23</th>\n",
              "      <th>V24</th>\n",
              "      <th>V25</th>\n",
              "      <th>V26</th>\n",
              "      <th>V27</th>\n",
              "      <th>V28</th>\n",
              "      <th>Amount</th>\n",
              "      <th>Class</th>\n",
              "    </tr>\n",
              "  </thead>\n",
              "  <tbody>\n",
              "    <tr>\n",
              "      <th>0</th>\n",
              "      <td>0.0</td>\n",
              "      <td>-1.359807</td>\n",
              "      <td>-0.072781</td>\n",
              "      <td>2.536347</td>\n",
              "      <td>1.378155</td>\n",
              "      <td>-0.338321</td>\n",
              "      <td>0.462388</td>\n",
              "      <td>0.239599</td>\n",
              "      <td>0.098698</td>\n",
              "      <td>0.363787</td>\n",
              "      <td>0.090794</td>\n",
              "      <td>-0.551600</td>\n",
              "      <td>-0.617801</td>\n",
              "      <td>-0.991390</td>\n",
              "      <td>-0.311169</td>\n",
              "      <td>1.468177</td>\n",
              "      <td>-0.470401</td>\n",
              "      <td>0.207971</td>\n",
              "      <td>0.025791</td>\n",
              "      <td>0.403993</td>\n",
              "      <td>0.251412</td>\n",
              "      <td>-0.018307</td>\n",
              "      <td>0.277838</td>\n",
              "      <td>-0.110474</td>\n",
              "      <td>0.066928</td>\n",
              "      <td>0.128539</td>\n",
              "      <td>-0.189115</td>\n",
              "      <td>0.133558</td>\n",
              "      <td>-0.021053</td>\n",
              "      <td>149.62</td>\n",
              "      <td>0</td>\n",
              "    </tr>\n",
              "    <tr>\n",
              "      <th>1</th>\n",
              "      <td>0.0</td>\n",
              "      <td>1.191857</td>\n",
              "      <td>0.266151</td>\n",
              "      <td>0.166480</td>\n",
              "      <td>0.448154</td>\n",
              "      <td>0.060018</td>\n",
              "      <td>-0.082361</td>\n",
              "      <td>-0.078803</td>\n",
              "      <td>0.085102</td>\n",
              "      <td>-0.255425</td>\n",
              "      <td>-0.166974</td>\n",
              "      <td>1.612727</td>\n",
              "      <td>1.065235</td>\n",
              "      <td>0.489095</td>\n",
              "      <td>-0.143772</td>\n",
              "      <td>0.635558</td>\n",
              "      <td>0.463917</td>\n",
              "      <td>-0.114805</td>\n",
              "      <td>-0.183361</td>\n",
              "      <td>-0.145783</td>\n",
              "      <td>-0.069083</td>\n",
              "      <td>-0.225775</td>\n",
              "      <td>-0.638672</td>\n",
              "      <td>0.101288</td>\n",
              "      <td>-0.339846</td>\n",
              "      <td>0.167170</td>\n",
              "      <td>0.125895</td>\n",
              "      <td>-0.008983</td>\n",
              "      <td>0.014724</td>\n",
              "      <td>2.69</td>\n",
              "      <td>0</td>\n",
              "    </tr>\n",
              "    <tr>\n",
              "      <th>2</th>\n",
              "      <td>1.0</td>\n",
              "      <td>-1.358354</td>\n",
              "      <td>-1.340163</td>\n",
              "      <td>1.773209</td>\n",
              "      <td>0.379780</td>\n",
              "      <td>-0.503198</td>\n",
              "      <td>1.800499</td>\n",
              "      <td>0.791461</td>\n",
              "      <td>0.247676</td>\n",
              "      <td>-1.514654</td>\n",
              "      <td>0.207643</td>\n",
              "      <td>0.624501</td>\n",
              "      <td>0.066084</td>\n",
              "      <td>0.717293</td>\n",
              "      <td>-0.165946</td>\n",
              "      <td>2.345865</td>\n",
              "      <td>-2.890083</td>\n",
              "      <td>1.109969</td>\n",
              "      <td>-0.121359</td>\n",
              "      <td>-2.261857</td>\n",
              "      <td>0.524980</td>\n",
              "      <td>0.247998</td>\n",
              "      <td>0.771679</td>\n",
              "      <td>0.909412</td>\n",
              "      <td>-0.689281</td>\n",
              "      <td>-0.327642</td>\n",
              "      <td>-0.139097</td>\n",
              "      <td>-0.055353</td>\n",
              "      <td>-0.059752</td>\n",
              "      <td>378.66</td>\n",
              "      <td>0</td>\n",
              "    </tr>\n",
              "    <tr>\n",
              "      <th>3</th>\n",
              "      <td>1.0</td>\n",
              "      <td>-0.966272</td>\n",
              "      <td>-0.185226</td>\n",
              "      <td>1.792993</td>\n",
              "      <td>-0.863291</td>\n",
              "      <td>-0.010309</td>\n",
              "      <td>1.247203</td>\n",
              "      <td>0.237609</td>\n",
              "      <td>0.377436</td>\n",
              "      <td>-1.387024</td>\n",
              "      <td>-0.054952</td>\n",
              "      <td>-0.226487</td>\n",
              "      <td>0.178228</td>\n",
              "      <td>0.507757</td>\n",
              "      <td>-0.287924</td>\n",
              "      <td>-0.631418</td>\n",
              "      <td>-1.059647</td>\n",
              "      <td>-0.684093</td>\n",
              "      <td>1.965775</td>\n",
              "      <td>-1.232622</td>\n",
              "      <td>-0.208038</td>\n",
              "      <td>-0.108300</td>\n",
              "      <td>0.005274</td>\n",
              "      <td>-0.190321</td>\n",
              "      <td>-1.175575</td>\n",
              "      <td>0.647376</td>\n",
              "      <td>-0.221929</td>\n",
              "      <td>0.062723</td>\n",
              "      <td>0.061458</td>\n",
              "      <td>123.50</td>\n",
              "      <td>0</td>\n",
              "    </tr>\n",
              "    <tr>\n",
              "      <th>4</th>\n",
              "      <td>2.0</td>\n",
              "      <td>-1.158233</td>\n",
              "      <td>0.877737</td>\n",
              "      <td>1.548718</td>\n",
              "      <td>0.403034</td>\n",
              "      <td>-0.407193</td>\n",
              "      <td>0.095921</td>\n",
              "      <td>0.592941</td>\n",
              "      <td>-0.270533</td>\n",
              "      <td>0.817739</td>\n",
              "      <td>0.753074</td>\n",
              "      <td>-0.822843</td>\n",
              "      <td>0.538196</td>\n",
              "      <td>1.345852</td>\n",
              "      <td>-1.119670</td>\n",
              "      <td>0.175121</td>\n",
              "      <td>-0.451449</td>\n",
              "      <td>-0.237033</td>\n",
              "      <td>-0.038195</td>\n",
              "      <td>0.803487</td>\n",
              "      <td>0.408542</td>\n",
              "      <td>-0.009431</td>\n",
              "      <td>0.798278</td>\n",
              "      <td>-0.137458</td>\n",
              "      <td>0.141267</td>\n",
              "      <td>-0.206010</td>\n",
              "      <td>0.502292</td>\n",
              "      <td>0.219422</td>\n",
              "      <td>0.215153</td>\n",
              "      <td>69.99</td>\n",
              "      <td>0</td>\n",
              "    </tr>\n",
              "  </tbody>\n",
              "</table>\n",
              "</div>\n",
              "    <div class=\"colab-df-buttons\">\n",
              "\n",
              "  <div class=\"colab-df-container\">\n",
              "    <button class=\"colab-df-convert\" onclick=\"convertToInteractive('df-2b13dfb6-d157-4dab-8606-21ca56e7ab98')\"\n",
              "            title=\"Convert this dataframe to an interactive table.\"\n",
              "            style=\"display:none;\">\n",
              "\n",
              "  <svg xmlns=\"http://www.w3.org/2000/svg\" height=\"24px\" viewBox=\"0 -960 960 960\">\n",
              "    <path d=\"M120-120v-720h720v720H120Zm60-500h600v-160H180v160Zm220 220h160v-160H400v160Zm0 220h160v-160H400v160ZM180-400h160v-160H180v160Zm440 0h160v-160H620v160ZM180-180h160v-160H180v160Zm440 0h160v-160H620v160Z\"/>\n",
              "  </svg>\n",
              "    </button>\n",
              "\n",
              "  <style>\n",
              "    .colab-df-container {\n",
              "      display:flex;\n",
              "      gap: 12px;\n",
              "    }\n",
              "\n",
              "    .colab-df-convert {\n",
              "      background-color: #E8F0FE;\n",
              "      border: none;\n",
              "      border-radius: 50%;\n",
              "      cursor: pointer;\n",
              "      display: none;\n",
              "      fill: #1967D2;\n",
              "      height: 32px;\n",
              "      padding: 0 0 0 0;\n",
              "      width: 32px;\n",
              "    }\n",
              "\n",
              "    .colab-df-convert:hover {\n",
              "      background-color: #E2EBFA;\n",
              "      box-shadow: 0px 1px 2px rgba(60, 64, 67, 0.3), 0px 1px 3px 1px rgba(60, 64, 67, 0.15);\n",
              "      fill: #174EA6;\n",
              "    }\n",
              "\n",
              "    .colab-df-buttons div {\n",
              "      margin-bottom: 4px;\n",
              "    }\n",
              "\n",
              "    [theme=dark] .colab-df-convert {\n",
              "      background-color: #3B4455;\n",
              "      fill: #D2E3FC;\n",
              "    }\n",
              "\n",
              "    [theme=dark] .colab-df-convert:hover {\n",
              "      background-color: #434B5C;\n",
              "      box-shadow: 0px 1px 3px 1px rgba(0, 0, 0, 0.15);\n",
              "      filter: drop-shadow(0px 1px 2px rgba(0, 0, 0, 0.3));\n",
              "      fill: #FFFFFF;\n",
              "    }\n",
              "  </style>\n",
              "\n",
              "    <script>\n",
              "      const buttonEl =\n",
              "        document.querySelector('#df-2b13dfb6-d157-4dab-8606-21ca56e7ab98 button.colab-df-convert');\n",
              "      buttonEl.style.display =\n",
              "        google.colab.kernel.accessAllowed ? 'block' : 'none';\n",
              "\n",
              "      async function convertToInteractive(key) {\n",
              "        const element = document.querySelector('#df-2b13dfb6-d157-4dab-8606-21ca56e7ab98');\n",
              "        const dataTable =\n",
              "          await google.colab.kernel.invokeFunction('convertToInteractive',\n",
              "                                                    [key], {});\n",
              "        if (!dataTable) return;\n",
              "\n",
              "        const docLinkHtml = 'Like what you see? Visit the ' +\n",
              "          '<a target=\"_blank\" href=https://colab.research.google.com/notebooks/data_table.ipynb>data table notebook</a>'\n",
              "          + ' to learn more about interactive tables.';\n",
              "        element.innerHTML = '';\n",
              "        dataTable['output_type'] = 'display_data';\n",
              "        await google.colab.output.renderOutput(dataTable, element);\n",
              "        const docLink = document.createElement('div');\n",
              "        docLink.innerHTML = docLinkHtml;\n",
              "        element.appendChild(docLink);\n",
              "      }\n",
              "    </script>\n",
              "  </div>\n",
              "\n",
              "\n",
              "<div id=\"df-fd031dcc-85bb-4ccd-83e4-2ac2dee096b3\">\n",
              "  <button class=\"colab-df-quickchart\" onclick=\"quickchart('df-fd031dcc-85bb-4ccd-83e4-2ac2dee096b3')\"\n",
              "            title=\"Suggest charts.\"\n",
              "            style=\"display:none;\">\n",
              "\n",
              "<svg xmlns=\"http://www.w3.org/2000/svg\" height=\"24px\"viewBox=\"0 0 24 24\"\n",
              "     width=\"24px\">\n",
              "    <g>\n",
              "        <path d=\"M19 3H5c-1.1 0-2 .9-2 2v14c0 1.1.9 2 2 2h14c1.1 0 2-.9 2-2V5c0-1.1-.9-2-2-2zM9 17H7v-7h2v7zm4 0h-2V7h2v10zm4 0h-2v-4h2v4z\"/>\n",
              "    </g>\n",
              "</svg>\n",
              "  </button>\n",
              "\n",
              "<style>\n",
              "  .colab-df-quickchart {\n",
              "    background-color: #E8F0FE;\n",
              "    border: none;\n",
              "    border-radius: 50%;\n",
              "    cursor: pointer;\n",
              "    display: none;\n",
              "    fill: #1967D2;\n",
              "    height: 32px;\n",
              "    padding: 0 0 0 0;\n",
              "    width: 32px;\n",
              "  }\n",
              "\n",
              "  .colab-df-quickchart:hover {\n",
              "    background-color: #E2EBFA;\n",
              "    box-shadow: 0px 1px 2px rgba(60, 64, 67, 0.3), 0px 1px 3px 1px rgba(60, 64, 67, 0.15);\n",
              "    fill: #174EA6;\n",
              "  }\n",
              "\n",
              "  [theme=dark] .colab-df-quickchart {\n",
              "    background-color: #3B4455;\n",
              "    fill: #D2E3FC;\n",
              "  }\n",
              "\n",
              "  [theme=dark] .colab-df-quickchart:hover {\n",
              "    background-color: #434B5C;\n",
              "    box-shadow: 0px 1px 3px 1px rgba(0, 0, 0, 0.15);\n",
              "    filter: drop-shadow(0px 1px 2px rgba(0, 0, 0, 0.3));\n",
              "    fill: #FFFFFF;\n",
              "  }\n",
              "</style>\n",
              "\n",
              "  <script>\n",
              "    async function quickchart(key) {\n",
              "      const charts = await google.colab.kernel.invokeFunction(\n",
              "          'suggestCharts', [key], {});\n",
              "    }\n",
              "    (() => {\n",
              "      let quickchartButtonEl =\n",
              "        document.querySelector('#df-fd031dcc-85bb-4ccd-83e4-2ac2dee096b3 button');\n",
              "      quickchartButtonEl.style.display =\n",
              "        google.colab.kernel.accessAllowed ? 'block' : 'none';\n",
              "    })();\n",
              "  </script>\n",
              "</div>\n",
              "    </div>\n",
              "  </div>\n"
            ]
          },
          "metadata": {},
          "execution_count": 41
        }
      ],
      "source": [
        "data.head()"
      ]
    },
    {
      "cell_type": "code",
      "execution_count": null,
      "metadata": {
        "id": "2EBLCxGD9Jue",
        "colab": {
          "base_uri": "https://localhost:8080/"
        },
        "outputId": "9327bc54-3ed8-4751-ee1c-36d985f6c487"
      },
      "outputs": [
        {
          "output_type": "execute_result",
          "data": {
            "text/plain": [
              "(284807, 31)"
            ]
          },
          "metadata": {},
          "execution_count": 42
        }
      ],
      "source": [
        "data.shape"
      ]
    },
    {
      "cell_type": "code",
      "execution_count": null,
      "metadata": {
        "id": "UyUUMNfF9cD5",
        "colab": {
          "base_uri": "https://localhost:8080/"
        },
        "outputId": "39a45ab9-4107-4ca5-8cb9-383ee5a67cb3"
      },
      "outputs": [
        {
          "output_type": "stream",
          "name": "stdout",
          "text": [
            "<class 'pandas.core.frame.DataFrame'>\n",
            "RangeIndex: 284807 entries, 0 to 284806\n",
            "Data columns (total 31 columns):\n",
            " #   Column  Non-Null Count   Dtype  \n",
            "---  ------  --------------   -----  \n",
            " 0   Time    284807 non-null  float64\n",
            " 1   V1      284807 non-null  float64\n",
            " 2   V2      284807 non-null  float64\n",
            " 3   V3      284807 non-null  float64\n",
            " 4   V4      284807 non-null  float64\n",
            " 5   V5      284807 non-null  float64\n",
            " 6   V6      284807 non-null  float64\n",
            " 7   V7      284807 non-null  float64\n",
            " 8   V8      284807 non-null  float64\n",
            " 9   V9      284807 non-null  float64\n",
            " 10  V10     284807 non-null  float64\n",
            " 11  V11     284807 non-null  float64\n",
            " 12  V12     284807 non-null  float64\n",
            " 13  V13     284807 non-null  float64\n",
            " 14  V14     284807 non-null  float64\n",
            " 15  V15     284807 non-null  float64\n",
            " 16  V16     284807 non-null  float64\n",
            " 17  V17     284807 non-null  float64\n",
            " 18  V18     284807 non-null  float64\n",
            " 19  V19     284807 non-null  float64\n",
            " 20  V20     284807 non-null  float64\n",
            " 21  V21     284807 non-null  float64\n",
            " 22  V22     284807 non-null  float64\n",
            " 23  V23     284807 non-null  float64\n",
            " 24  V24     284807 non-null  float64\n",
            " 25  V25     284807 non-null  float64\n",
            " 26  V26     284807 non-null  float64\n",
            " 27  V27     284807 non-null  float64\n",
            " 28  V28     284807 non-null  float64\n",
            " 29  Amount  284807 non-null  float64\n",
            " 30  Class   284807 non-null  int64  \n",
            "dtypes: float64(30), int64(1)\n",
            "memory usage: 67.4 MB\n"
          ]
        }
      ],
      "source": [
        "data.info()"
      ]
    },
    {
      "cell_type": "code",
      "execution_count": null,
      "metadata": {
        "id": "U-nO-DLP90ax",
        "colab": {
          "base_uri": "https://localhost:8080/"
        },
        "outputId": "0011b08c-224e-48d2-9932-f8d0bec74301"
      },
      "outputs": [
        {
          "output_type": "execute_result",
          "data": {
            "text/plain": [
              "Time      0\n",
              "V1        0\n",
              "V2        0\n",
              "V3        0\n",
              "V4        0\n",
              "V5        0\n",
              "V6        0\n",
              "V7        0\n",
              "V8        0\n",
              "V9        0\n",
              "V10       0\n",
              "V11       0\n",
              "V12       0\n",
              "V13       0\n",
              "V14       0\n",
              "V15       0\n",
              "V16       0\n",
              "V17       0\n",
              "V18       0\n",
              "V19       0\n",
              "V20       0\n",
              "V21       0\n",
              "V22       0\n",
              "V23       0\n",
              "V24       0\n",
              "V25       0\n",
              "V26       0\n",
              "V27       0\n",
              "V28       0\n",
              "Amount    0\n",
              "Class     0\n",
              "dtype: int64"
            ]
          },
          "metadata": {},
          "execution_count": 44
        }
      ],
      "source": [
        "data.isnull().sum()"
      ]
    },
    {
      "cell_type": "markdown",
      "metadata": {
        "id": "5bH49I-x_gX7"
      },
      "source": [
        " - No null values"
      ]
    },
    {
      "cell_type": "code",
      "execution_count": null,
      "metadata": {
        "id": "bEhOHBNw_CXv",
        "colab": {
          "base_uri": "https://localhost:8080/"
        },
        "outputId": "47f3fe2c-ebce-4f2b-9d6b-87d328e902ce"
      },
      "outputs": [
        {
          "output_type": "execute_result",
          "data": {
            "text/plain": [
              "0    284315\n",
              "1       492\n",
              "Name: Class, dtype: int64"
            ]
          },
          "metadata": {},
          "execution_count": 45
        }
      ],
      "source": [
        "data['Class'].value_counts()"
      ]
    },
    {
      "cell_type": "markdown",
      "metadata": {
        "id": "tEz4i00RQ_6w"
      },
      "source": [
        "- Data is imbalanced"
      ]
    },
    {
      "cell_type": "code",
      "execution_count": null,
      "metadata": {
        "id": "mixSigSP_IOe",
        "colab": {
          "base_uri": "https://localhost:8080/"
        },
        "outputId": "10ba5038-3385-4d82-d528-7838230467a4"
      },
      "outputs": [
        {
          "output_type": "execute_result",
          "data": {
            "text/plain": [
              "1081"
            ]
          },
          "metadata": {},
          "execution_count": 46
        }
      ],
      "source": [
        "data.duplicated().sum()"
      ]
    },
    {
      "cell_type": "markdown",
      "metadata": {
        "id": "RAV_Gz9ERGir"
      },
      "source": [
        "- 1081 duplicated values"
      ]
    },
    {
      "cell_type": "code",
      "execution_count": null,
      "metadata": {
        "id": "n2TKYXnc_P1K",
        "colab": {
          "base_uri": "https://localhost:8080/"
        },
        "outputId": "6850d10f-0902-47b5-8672-44aef116b37f"
      },
      "outputs": [
        {
          "output_type": "execute_result",
          "data": {
            "text/plain": [
              "Time      -0.035568\n",
              "V1        -3.280667\n",
              "V2        -4.624866\n",
              "V3        -2.240155\n",
              "V4         0.676292\n",
              "V5        -2.425901\n",
              "V6         1.826581\n",
              "V7         2.553907\n",
              "V8        -8.521944\n",
              "V9         0.554680\n",
              "V10        1.187141\n",
              "V11        0.356506\n",
              "V12       -2.278401\n",
              "V13        0.065233\n",
              "V14       -1.995176\n",
              "V15       -0.308423\n",
              "V16       -1.100966\n",
              "V17       -3.844914\n",
              "V18       -0.259880\n",
              "V19        0.109192\n",
              "V20       -2.037155\n",
              "V21        3.592991\n",
              "V22       -0.213258\n",
              "V23       -5.875140\n",
              "V24       -0.552499\n",
              "V25       -0.415793\n",
              "V26        0.576693\n",
              "V27       -1.170209\n",
              "V28       11.192091\n",
              "Amount    16.977724\n",
              "Class     23.997579\n",
              "dtype: float64"
            ]
          },
          "metadata": {},
          "execution_count": 47
        }
      ],
      "source": [
        "data.skew()"
      ]
    },
    {
      "cell_type": "markdown",
      "metadata": {
        "id": "-w6k1PBIRNlq"
      },
      "source": [
        "- Large amount of skewness is present"
      ]
    },
    {
      "cell_type": "markdown",
      "metadata": {
        "id": "10cT0-liQonN"
      },
      "source": [
        "# Data Prepation and Data Transformation"
      ]
    },
    {
      "cell_type": "code",
      "execution_count": null,
      "metadata": {
        "id": "qq2rXoBDQzOF",
        "colab": {
          "base_uri": "https://localhost:8080/"
        },
        "outputId": "c300a54b-e48c-4d87-d3a5-1ffe4bfa2739"
      },
      "outputs": [
        {
          "output_type": "execute_result",
          "data": {
            "text/plain": [
              "0"
            ]
          },
          "metadata": {},
          "execution_count": 48
        }
      ],
      "source": [
        "data.drop_duplicates(inplace=True)\n",
        "data.duplicated().sum()"
      ]
    },
    {
      "cell_type": "markdown",
      "metadata": {
        "id": "BWagTEz9Ruff"
      },
      "source": [
        "- Duplicates values are dropped"
      ]
    },
    {
      "cell_type": "code",
      "execution_count": null,
      "metadata": {
        "id": "DpUI6JCARs5h"
      },
      "outputs": [],
      "source": [
        "def remove_outlier(col):\n",
        "    sorted(col)\n",
        "    Q1,Q3=col.quantile([0.25,0.75])\n",
        "    IQR=Q3-Q1\n",
        "    lower_range=Q1-1.5*IQR\n",
        "    upper_range=Q3+1.5*IQR\n",
        "    return lower_range,upper_range"
      ]
    },
    {
      "cell_type": "markdown",
      "source": [
        "- User defined function to remove outliers"
      ],
      "metadata": {
        "id": "Euykqb1P80w7"
      }
    },
    {
      "cell_type": "code",
      "execution_count": null,
      "metadata": {
        "id": "aw2RC5CdR9Fk"
      },
      "outputs": [],
      "source": [
        "low_leadtime,high_leadtime=remove_outlier(data['V28'])\n",
        "data['V28']=np.where(data['V28']>high_leadtime,high_leadtime,data['V28'])\n",
        "data['V28']=np.where(data['V28']<low_leadtime,low_leadtime,data['V28'])"
      ]
    },
    {
      "cell_type": "code",
      "execution_count": null,
      "metadata": {
        "id": "6Zz-7d1ZR_Ll"
      },
      "outputs": [],
      "source": [
        "low_leadtime,high_leadtime=remove_outlier(data['V8'])\n",
        "data['V8']=np.where(data['V8']>high_leadtime,high_leadtime,data['V8'])\n",
        "data['V8']=np.where(data['V8']<low_leadtime,low_leadtime,data['V8'])"
      ]
    },
    {
      "cell_type": "code",
      "execution_count": null,
      "metadata": {
        "id": "MqXeun7LSA4i"
      },
      "outputs": [],
      "source": [
        "low_leadtime,high_leadtime=remove_outlier(data['V2'])\n",
        "data['V2']=np.where(data['V2']>high_leadtime,high_leadtime,data['V2'])\n",
        "data['V2']=np.where(data['V2']<low_leadtime,low_leadtime,data['V2'])"
      ]
    },
    {
      "cell_type": "code",
      "execution_count": null,
      "metadata": {
        "id": "h8OIPp6gSCvv"
      },
      "outputs": [],
      "source": [
        "low_leadtime,high_leadtime=remove_outlier(data['V23'])\n",
        "data['V23']=np.where(data['V23']>high_leadtime,high_leadtime,data['V23'])\n",
        "data['V23']=np.where(data['V23']<low_leadtime,low_leadtime,data['V23'])"
      ]
    },
    {
      "cell_type": "code",
      "execution_count": null,
      "metadata": {
        "id": "OFMmqaQwSEsM",
        "colab": {
          "base_uri": "https://localhost:8080/"
        },
        "outputId": "30a6ada9-9654-45f6-965d-60aadd4ae450"
      },
      "outputs": [
        {
          "output_type": "execute_result",
          "data": {
            "text/plain": [
              "Time      -0.035581\n",
              "V1        -3.273271\n",
              "V2        -0.139176\n",
              "V3        -2.151984\n",
              "V4         0.671504\n",
              "V5        -2.414079\n",
              "V6         1.829880\n",
              "V7         2.890271\n",
              "V8         0.151892\n",
              "V9         0.537663\n",
              "V10        1.252967\n",
              "V11        0.344074\n",
              "V12       -2.199008\n",
              "V13        0.064293\n",
              "V14       -1.918804\n",
              "V15       -0.309659\n",
              "V16       -1.051161\n",
              "V17       -3.690497\n",
              "V18       -0.248661\n",
              "V19        0.108312\n",
              "V20       -2.043121\n",
              "V21        2.820033\n",
              "V22       -0.182330\n",
              "V23        0.062001\n",
              "V24       -0.552129\n",
              "V25       -0.415744\n",
              "V26        0.580292\n",
              "V27       -0.753804\n",
              "V28       -0.032022\n",
              "Amount    16.978803\n",
              "Class     24.430545\n",
              "dtype: float64"
            ]
          },
          "metadata": {},
          "execution_count": 54
        }
      ],
      "source": [
        "data.skew()"
      ]
    },
    {
      "cell_type": "markdown",
      "source": [
        "- Outliers are removed"
      ],
      "metadata": {
        "id": "3-H0nFWv9Byz"
      }
    },
    {
      "cell_type": "code",
      "execution_count": null,
      "metadata": {
        "id": "uUnk0UISSqrk"
      },
      "outputs": [],
      "source": [
        "x = data.drop(['Class'], axis=1)\n",
        "y = data['Class']"
      ]
    },
    {
      "cell_type": "code",
      "execution_count": null,
      "metadata": {
        "id": "cW3-MERhSy3U",
        "colab": {
          "base_uri": "https://localhost:8080/"
        },
        "outputId": "4d2c7c27-4960-43bf-96be-211cb3a575c7"
      },
      "outputs": [
        {
          "output_type": "stream",
          "name": "stdout",
          "text": [
            "(283726, 30) (283726,)\n"
          ]
        }
      ],
      "source": [
        "print(x.shape, y.shape)"
      ]
    },
    {
      "cell_type": "code",
      "execution_count": null,
      "metadata": {
        "id": "csVL3hj8YAUb",
        "colab": {
          "base_uri": "https://localhost:8080/"
        },
        "outputId": "ab52b7a8-4301-4504-ee0b-38097e352d2b"
      },
      "outputs": [
        {
          "output_type": "execute_result",
          "data": {
            "text/plain": [
              "0    283253\n",
              "1       473\n",
              "Name: Class, dtype: int64"
            ]
          },
          "metadata": {},
          "execution_count": 57
        }
      ],
      "source": [
        "data['Class'].value_counts()"
      ]
    },
    {
      "cell_type": "code",
      "execution_count": null,
      "metadata": {
        "id": "jKJoii2fS1Ov"
      },
      "outputs": [],
      "source": [
        "from imblearn.over_sampling import SMOTE\n",
        "smt = SMOTE()\n",
        "x, y = smt.fit_resample(x, y)"
      ]
    },
    {
      "cell_type": "markdown",
      "source": [
        "- Using SMOTE to balance the data"
      ],
      "metadata": {
        "id": "_vsY_hCK92_7"
      }
    },
    {
      "cell_type": "code",
      "execution_count": null,
      "metadata": {
        "id": "AKxWDHnWYBp0",
        "colab": {
          "base_uri": "https://localhost:8080/"
        },
        "outputId": "6105a559-e1d5-4f88-e854-51ce2c937d45"
      },
      "outputs": [
        {
          "output_type": "execute_result",
          "data": {
            "text/plain": [
              "0    283253\n",
              "1       473\n",
              "Name: Class, dtype: int64"
            ]
          },
          "metadata": {},
          "execution_count": 59
        }
      ],
      "source": [
        "data['Class'].value_counts()"
      ]
    },
    {
      "cell_type": "code",
      "execution_count": null,
      "metadata": {
        "id": "pfKQw-j5S2xl",
        "colab": {
          "base_uri": "https://localhost:8080/"
        },
        "outputId": "a92766ba-9dc2-4f16-dede-44343e9fdb72"
      },
      "outputs": [
        {
          "output_type": "stream",
          "name": "stdout",
          "text": [
            "(566506, 30) (566506,)\n"
          ]
        }
      ],
      "source": [
        "print(x.shape, y.shape)"
      ]
    },
    {
      "cell_type": "markdown",
      "source": [
        "- Data is balanced"
      ],
      "metadata": {
        "id": "7WR5gopB-A9u"
      }
    },
    {
      "cell_type": "markdown",
      "metadata": {
        "id": "mF6gYd8wTkf9"
      },
      "source": [
        "# Data Visualization"
      ]
    },
    {
      "cell_type": "code",
      "execution_count": null,
      "metadata": {
        "id": "7L1XoIQNS9J2",
        "colab": {
          "base_uri": "https://localhost:8080/",
          "height": 449
        },
        "outputId": "8c3a51d5-540e-4d5b-9bf6-534915882c8f"
      },
      "outputs": [
        {
          "output_type": "display_data",
          "data": {
            "text/plain": [
              "<Figure size 640x480 with 1 Axes>"
            ],
            "image/png": "[encoded data removed]"
          },
          "metadata": {}
        }
      ],
      "source": [
        "sns.countplot(x=y)\n",
        "plt.show()"
      ]
    },
    {
      "cell_type": "markdown",
      "source": [
        "- Both class are equal"
      ],
      "metadata": {
        "id": "rDigicVC-Gbk"
      }
    },
    {
      "cell_type": "code",
      "execution_count": null,
      "metadata": {
        "id": "qoDRwq6cS-t5",
        "colab": {
          "base_uri": "https://localhost:8080/",
          "height": 482
        },
        "outputId": "75476e1f-c170-4ef4-f3ad-ca3523d6cc8f"
      },
      "outputs": [
        {
          "output_type": "execute_result",
          "data": {
            "text/plain": [
              "<Axes: xlabel='Time', ylabel='Density'>"
            ]
          },
          "metadata": {},
          "execution_count": 62
        },
        {
          "output_type": "display_data",
          "data": {
            "text/plain": [
              "<Figure size 640x480 with 1 Axes>"
            ],
            "image/png": "[encoded data removed]"
          },
          "metadata": {}
        }
      ],
      "source": [
        "sns.distplot(data['Time'])"
      ]
    },
    {
      "cell_type": "code",
      "execution_count": null,
      "metadata": {
        "id": "2neF6WOOVEk6",
        "colab": {
          "base_uri": "https://localhost:8080/",
          "height": 447
        },
        "outputId": "adf170d3-bae3-471e-8626-ec3a6e7eed82"
      },
      "outputs": [
        {
          "output_type": "execute_result",
          "data": {
            "text/plain": [
              "<Axes: ylabel='Amount'>"
            ]
          },
          "metadata": {},
          "execution_count": 63
        },
        {
          "output_type": "display_data",
          "data": {
            "text/plain": [
              "<Figure size 640x480 with 1 Axes>"
            ],
            "image/png": "[encoded data removed]"
          },
          "metadata": {}
        }
      ],
      "source": [
        "sns.scatterplot(data[\"Amount\"])"
      ]
    },
    {
      "cell_type": "code",
      "execution_count": null,
      "metadata": {
        "id": "kI5mPXfOVE9w",
        "colab": {
          "base_uri": "https://localhost:8080/",
          "height": 423
        },
        "outputId": "bc5f2621-01e5-4063-c623-c15995aa6195"
      },
      "outputs": [
        {
          "output_type": "execute_result",
          "data": {
            "text/plain": [
              "<Axes: ylabel='Class'>"
            ]
          },
          "metadata": {},
          "execution_count": 64
        },
        {
          "output_type": "display_data",
          "data": {
            "text/plain": [
              "<Figure size 640x480 with 1 Axes>"
            ],
            "image/png": "[encoded data removed]"
          },
          "metadata": {}
        }
      ],
      "source": [
        "data[\"Class\"].value_counts().plot(kind='pie',autopct='%1.1f%%')"
      ]
    },
    {
      "cell_type": "markdown",
      "source": [
        "- 99.8 % data is Non fraud and 0.2% indicates fraud"
      ],
      "metadata": {
        "id": "VowRzRDAxaik"
      }
    },
    {
      "cell_type": "markdown",
      "metadata": {
        "id": "Lm3-1QVBVpfJ"
      },
      "source": [
        "# Builting Models\n",
        "\n"
      ]
    },
    {
      "cell_type": "code",
      "execution_count": null,
      "metadata": {
        "id": "hJbZGhvZVL0b"
      },
      "outputs": [],
      "source": [
        "x_train, x_test, y_train, y_test = train_test_split(x, y, test_size=0.2, random_state=2)"
      ]
    },
    {
      "cell_type": "markdown",
      "source": [
        "- Trian and Test Split"
      ],
      "metadata": {
        "id": "IYIQf-WV_z2Y"
      }
    },
    {
      "cell_type": "code",
      "execution_count": null,
      "metadata": {
        "id": "uH_4RE7VW5f1"
      },
      "outputs": [],
      "source": [
        "def acc_report(actual,predicted):\n",
        "   acc_score=accuracy_score(actual,predicted)\n",
        "   cn_matrix=confusion_matrix(actual,predicted)\n",
        "   cla_report=classification_report(actual,predicted)\n",
        "   print('accuracy::',acc_score.round(2))\n",
        "   print(cn_matrix)\n",
        "   print(cla_report)"
      ]
    },
    {
      "cell_type": "markdown",
      "source": [
        "## Logistic Regression"
      ],
      "metadata": {
        "id": "_kiB1M5S_7Sn"
      }
    },
    {
      "cell_type": "code",
      "execution_count": null,
      "metadata": {
        "id": "331nO6AMXFYY"
      },
      "outputs": [],
      "source": [
        "lr=LogisticRegression()\n",
        "lr.fit(x_train,y_train)\n",
        "preds_ytrain_lr=lr.predict(x_train)\n",
        "preds_ytest_lr=lr.predict(x_test)"
      ]
    },
    {
      "cell_type": "code",
      "execution_count": null,
      "metadata": {
        "id": "Axo6xhgYXL-q",
        "colab": {
          "base_uri": "https://localhost:8080/"
        },
        "outputId": "26acfe71-af23-4b27-a18b-815ded74b6a6"
      },
      "outputs": [
        {
          "output_type": "stream",
          "name": "stdout",
          "text": [
            "accuracy:: 0.96\n",
            "[[54817  1638]\n",
            " [ 3030 53817]]\n",
            "              precision    recall  f1-score   support\n",
            "\n",
            "           0       0.95      0.97      0.96     56455\n",
            "           1       0.97      0.95      0.96     56847\n",
            "\n",
            "    accuracy                           0.96    113302\n",
            "   macro avg       0.96      0.96      0.96    113302\n",
            "weighted avg       0.96      0.96      0.96    113302\n",
            "\n",
            "accuracy:: 0.96\n",
            "[[220087   6711]\n",
            " [ 11941 214465]]\n",
            "              precision    recall  f1-score   support\n",
            "\n",
            "           0       0.95      0.97      0.96    226798\n",
            "           1       0.97      0.95      0.96    226406\n",
            "\n",
            "    accuracy                           0.96    453204\n",
            "   macro avg       0.96      0.96      0.96    453204\n",
            "weighted avg       0.96      0.96      0.96    453204\n",
            "\n"
          ]
        }
      ],
      "source": [
        "acc_report(y_test,preds_ytest_lr)\n",
        "acc_report(y_train,preds_ytrain_lr)"
      ]
    },
    {
      "cell_type": "markdown",
      "source": [
        "Inference:\n",
        "  \n",
        "  - Train Accuracy and Test Accuracy both 97%\n",
        "  - Hence the Logistic Regression model performs well for this data"
      ],
      "metadata": {
        "id": "x9eP0mRSDM5z"
      }
    },
    {
      "cell_type": "markdown",
      "source": [
        "## Random Forest"
      ],
      "metadata": {
        "id": "7NUDpP6PAEAI"
      }
    },
    {
      "cell_type": "code",
      "execution_count": null,
      "metadata": {
        "id": "YceVCCSEXVBh",
        "colab": {
          "base_uri": "https://localhost:8080/"
        },
        "outputId": "ed2e91e3-ec38-4f9e-d938-133876217cf2"
      },
      "outputs": [
        {
          "output_type": "stream",
          "name": "stderr",
          "text": [
            "[Parallel(n_jobs=1)]: Done  49 tasks      | elapsed:  1.1min\n",
            "[Parallel(n_jobs=1)]: Done 199 tasks      | elapsed:  4.4min\n",
            "[Parallel(n_jobs=1)]: Done  49 tasks      | elapsed:    1.2s\n",
            "[Parallel(n_jobs=1)]: Done 199 tasks      | elapsed:    4.9s\n",
            "[Parallel(n_jobs=1)]: Done  49 tasks      | elapsed:    0.3s\n",
            "[Parallel(n_jobs=1)]: Done 199 tasks      | elapsed:    1.2s\n"
          ]
        }
      ],
      "source": [
        "rf= RandomForestClassifier(n_estimators=200 ,max_depth=5 ,verbose=1)\n",
        "rf.fit(x_train,y_train)\n",
        "preds_rf_train=rf.predict(x_train)\n",
        "preds_rf_test=rf.predict(x_test)"
      ]
    },
    {
      "cell_type": "code",
      "execution_count": null,
      "metadata": {
        "id": "bM1cTVAWXYmU",
        "colab": {
          "base_uri": "https://localhost:8080/"
        },
        "outputId": "ae369876-ca62-4db8-fd85-baeb68c7c903"
      },
      "outputs": [
        {
          "output_type": "stream",
          "name": "stdout",
          "text": [
            "accuracy:: 0.97\n",
            "[[225541   1257]\n",
            " [ 13606 212800]]\n",
            "              precision    recall  f1-score   support\n",
            "\n",
            "           0       0.94      0.99      0.97    226798\n",
            "           1       0.99      0.94      0.97    226406\n",
            "\n",
            "    accuracy                           0.97    453204\n",
            "   macro avg       0.97      0.97      0.97    453204\n",
            "weighted avg       0.97      0.97      0.97    453204\n",
            "\n",
            "accuracy:: 0.97\n",
            "[[56168   287]\n",
            " [ 3443 53404]]\n",
            "              precision    recall  f1-score   support\n",
            "\n",
            "           0       0.94      0.99      0.97     56455\n",
            "           1       0.99      0.94      0.97     56847\n",
            "\n",
            "    accuracy                           0.97    113302\n",
            "   macro avg       0.97      0.97      0.97    113302\n",
            "weighted avg       0.97      0.97      0.97    113302\n",
            "\n"
          ]
        }
      ],
      "source": [
        "acc_report(y_train,preds_rf_train)\n",
        "acc_report(y_test,preds_rf_test)"
      ]
    },
    {
      "cell_type": "markdown",
      "source": [
        "Inference:\n",
        "  \n",
        "  - Train Accuracy and Test Accuracy both 97%\n",
        "  - Hence the Random Forest model performs well for this data"
      ],
      "metadata": {
        "id": "2Mjb0rdeEBst"
      }
    },
    {
      "cell_type": "markdown",
      "source": [
        "## Gradient Boosting"
      ],
      "metadata": {
        "id": "mmQFbzkhAL3j"
      }
    },
    {
      "cell_type": "code",
      "execution_count": null,
      "metadata": {
        "id": "R24roAD2XbN3"
      },
      "outputs": [],
      "source": [
        "\n",
        "from sklearn.ensemble import GradientBoostingClassifier\n",
        "\n",
        "gb=GradientBoostingClassifier()\n",
        "gb.fit(x_train,y_train)\n",
        "preds_gb_train=gb.predict(x_train)\n",
        "preds_gb_test=gb.predict(x_test)"
      ]
    },
    {
      "cell_type": "code",
      "execution_count": null,
      "metadata": {
        "id": "aSbrLeyXXdOQ",
        "colab": {
          "base_uri": "https://localhost:8080/"
        },
        "outputId": "ac360faf-bd0a-4a9e-c501-0e51619a2053"
      },
      "outputs": [
        {
          "output_type": "stream",
          "name": "stdout",
          "text": [
            "accuracy:: 0.99\n",
            "[[225483   1315]\n",
            " [  4604 221802]]\n",
            "              precision    recall  f1-score   support\n",
            "\n",
            "           0       0.98      0.99      0.99    226798\n",
            "           1       0.99      0.98      0.99    226406\n",
            "\n",
            "    accuracy                           0.99    453204\n",
            "   macro avg       0.99      0.99      0.99    453204\n",
            "weighted avg       0.99      0.99      0.99    453204\n",
            "\n",
            "accuracy:: 0.99\n",
            "[[56133   322]\n",
            " [ 1195 55652]]\n",
            "              precision    recall  f1-score   support\n",
            "\n",
            "           0       0.98      0.99      0.99     56455\n",
            "           1       0.99      0.98      0.99     56847\n",
            "\n",
            "    accuracy                           0.99    113302\n",
            "   macro avg       0.99      0.99      0.99    113302\n",
            "weighted avg       0.99      0.99      0.99    113302\n",
            "\n"
          ]
        }
      ],
      "source": [
        "acc_report(y_train,preds_gb_train)\n",
        "acc_report(y_test,preds_gb_test)"
      ]
    },
    {
      "cell_type": "markdown",
      "source": [
        "Inference:\n",
        "  \n",
        "  - Train Accuracy and Test Accuracy both 99%\n",
        "  - Hence the Random Gradient Boosting model performs well for this data"
      ],
      "metadata": {
        "id": "vozYqekgEE83"
      }
    },
    {
      "cell_type": "markdown",
      "source": [
        "# Conclusion"
      ],
      "metadata": {
        "id": "1nAqcM2SFXHF"
      }
    },
    {
      "cell_type": "markdown",
      "source": [
        "\n",
        "  \n",
        "\n",
        "1. Logistic Regression Model:\n",
        "\n",
        "  - Train Accuracy and Test Accuracy both 97%\n",
        "  - The Logistic Regression model demonstrates a commendable consistency in accuracy between training and testing datasets. This implies its capability to generalize well to unseen data, making it a viable option for credit card fraud detection.\n",
        "\n",
        "2. Random Forest Model:\n",
        "\n",
        "  - Train Accuracy and Test Accuracy both 97%\n",
        "  - The Random Forest model showcases stability in accuracy on both training and testing data. This substantiates its reliability in distinguishing between legitimate and fraudulent transactions.\n",
        "\n",
        "3. Gradient Boosting Model:\n",
        "\n",
        "  - Train Accuracy and Test Accuracy both 99%\n",
        "  - The Random Gradient Boosting model outshines the rest with its remarkably high accuracy scores on both datasets. This suggests its strong potential in effectively identifying instances of credit card fraud.\n",
        "\n",
        "- Comparing all three models **Gradient Boosting** model gives the highest accuracy\n",
        "\n",
        "\n",
        "\n",
        "\n",
        "\n",
        "\n",
        "\n",
        "\n",
        "\n",
        "\n"
      ],
      "metadata": {
        "id": "ImoO3Zk8Fhbr"
      }
    },
    {
      "cell_type": "code",
      "source": [],
      "metadata": {
        "id": "1R16ZWk4yG25"
      },
      "execution_count": null,
      "outputs": []
    }
  ],
  "metadata": {
    "colab": {
      "provenance": [],
      "toc_visible": true,
      "gpuType": "T4",
      "authorship_tag": "ABX9TyPyOElk/bF8arbsVoxEPd1E",
      "include_colab_link": true
    },
    "kernelspec": {
      "display_name": "Python 3",
      "name": "python3"
    },
    "language_info": {
      "name": "python"
    },
    "accelerator": "GPU"
  },
  "nbformat": 4,
  "nbformat_minor": 0
}